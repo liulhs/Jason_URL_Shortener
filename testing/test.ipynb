{
 "cells": [
  {
   "cell_type": "code",
   "execution_count": 1,
   "metadata": {},
   "outputs": [],
   "source": [
    "import requests"
   ]
  },
  {
   "cell_type": "code",
   "execution_count": 2,
   "metadata": {},
   "outputs": [],
   "source": [
    "# Define the API endpoint and data\n",
    "api_url = \"http://localhost:8000/url/shorten\"\n",
    "long_url = \"https://www.youtube.com/watch?v=fi4XrnTy54s\"\n",
    "data = {\n",
    "    \"long_url\": long_url,\n",
    "    \"expiration_minutes\": 1440  # 1 day expiration\n",
    "}"
   ]
  },
  {
   "cell_type": "code",
   "execution_count": 5,
   "metadata": {},
   "outputs": [
    {
     "name": "stdout",
     "output_type": "stream",
     "text": [
      "Shortened URL: https://www.jasonurl.com/url/68cd5fa8\n"
     ]
    }
   ],
   "source": [
    "try:\n",
    "    # Send POST request to the URL shortener API\n",
    "    response = requests.post(api_url, json=data)\n",
    "    \n",
    "    # Check for successful response\n",
    "    if response.status_code == 200:\n",
    "        short_url = response.json().get(\"short_url\")\n",
    "        print(\"Shortened URL:\", short_url)\n",
    "    else:\n",
    "        print(\"Failed to shorten URL. Status code:\", response.status_code)\n",
    "        print(\"Response:\", response.text)\n",
    "        \n",
    "except requests.RequestException as e:\n",
    "    print(\"Error:\", e)"
   ]
  },
  {
   "cell_type": "code",
   "execution_count": null,
   "metadata": {},
   "outputs": [],
   "source": []
  },
  {
   "cell_type": "code",
   "execution_count": null,
   "metadata": {},
   "outputs": [],
   "source": []
  }
 ],
 "metadata": {
  "kernelspec": {
   "display_name": "coursistant",
   "language": "python",
   "name": "python3"
  },
  "language_info": {
   "codemirror_mode": {
    "name": "ipython",
    "version": 3
   },
   "file_extension": ".py",
   "mimetype": "text/x-python",
   "name": "python",
   "nbconvert_exporter": "python",
   "pygments_lexer": "ipython3",
   "version": "3.12.3"
  }
 },
 "nbformat": 4,
 "nbformat_minor": 2
}
